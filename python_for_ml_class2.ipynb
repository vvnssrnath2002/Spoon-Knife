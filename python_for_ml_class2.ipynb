{
  "cells": [
    {
      "cell_type": "markdown",
      "metadata": {
        "id": "view-in-github",
        "colab_type": "text"
      },
      "source": [
        "<a href=\"https://colab.research.google.com/github/vvnssrnath2002/Spoon-Knife/blob/main/python_for_ml_class2.ipynb\" target=\"_parent\"><img src=\"https://colab.research.google.com/assets/colab-badge.svg\" alt=\"Open In Colab\"/></a>"
      ]
    },
    {
      "cell_type": "code",
      "execution_count": null,
      "metadata": {
        "colab": {
          "base_uri": "https://localhost:8080/"
        },
        "id": "GJt1uuwc9osJ",
        "outputId": "f3e15b03-e010-4fdf-fca3-f6ea50053171"
      },
      "outputs": [
        {
          "name": "stdout",
          "output_type": "stream",
          "text": [
            "Hello,world\n"
          ]
        }
      ],
      "source": [
        "print(\"Hello,world\")"
      ]
    },
    {
      "cell_type": "code",
      "execution_count": null,
      "metadata": {
        "colab": {
          "base_uri": "https://localhost:8080/"
        },
        "id": "5L1w_As2AAY3",
        "outputId": "2a8894ca-3b97-4463-f64f-db7d72f7f3c0"
      },
      "outputs": [
        {
          "name": "stdout",
          "output_type": "stream",
          "text": [
            "Hey 10 2.2 Hello\n"
          ]
        }
      ],
      "source": [
        "print(\"Hey\",10,2.2,\"Hello\")"
      ]
    },
    {
      "cell_type": "code",
      "execution_count": null,
      "metadata": {
        "colab": {
          "base_uri": "https://localhost:8080/"
        },
        "id": "4b8rIJ00AIrT",
        "outputId": "87b2beec-a9e3-4f79-c82b-25b3b602be0b"
      },
      "outputs": [
        {
          "name": "stdout",
          "output_type": "stream",
          "text": [
            "Hello PythonHai\n"
          ]
        }
      ],
      "source": [
        "s=input(\"Hello Python\")\n",
        "\n",
        "\n",
        "\n"
      ]
    },
    {
      "cell_type": "code",
      "execution_count": null,
      "metadata": {
        "colab": {
          "base_uri": "https://localhost:8080/"
        },
        "id": "1p90oPbhCBi1",
        "outputId": "93ba503f-8699-4487-d701-2974c27b76d4"
      },
      "outputs": [
        {
          "name": "stdout",
          "output_type": "stream",
          "text": [
            "What is your name? Raghunath\n",
            "Hello Raghunath\n",
            "How old are you? 21\n",
            "You are 21 years old\n"
          ]
        }
      ],
      "source": [
        "name=input(\"What is your name? \")\n",
        "print(\"Hello\",name.capitalize())\n",
        "age=input(\"How old are you? \")\n",
        "print(\"You are\",age,\"years old\")\n",
        "\n"
      ]
    },
    {
      "cell_type": "code",
      "execution_count": null,
      "metadata": {
        "colab": {
          "base_uri": "https://localhost:8080/"
        },
        "id": "xaR9pNnVCnDf",
        "outputId": "d8f984cc-8d20-4678-94a4-f112b0b1aa94"
      },
      "outputs": [
        {
          "output_type": "stream",
          "name": "stdout",
          "text": [
            "Saurabh\n"
          ]
        }
      ],
      "source": [
        "s=\"saurabh\"\n",
        "t=s.capitalize()\n",
        "print(t)\n",
        "\n"
      ]
    },
    {
      "cell_type": "code",
      "execution_count": null,
      "metadata": {
        "colab": {
          "base_uri": "https://localhost:8080/"
        },
        "id": "RmqfeQyoDhQA",
        "outputId": "15c769e6-3943-4a72-dbe7-b49d6cd433d9"
      },
      "outputs": [
        {
          "data": {
            "text/plain": [
              "int"
            ]
          },
          "execution_count": 3,
          "metadata": {},
          "output_type": "execute_result"
        }
      ],
      "source": [
        "s=\"This is a string\"\n",
        "a=2\n",
        "b=2.4\n",
        "\n",
        "type(s)\n"
      ]
    },
    {
      "cell_type": "code",
      "execution_count": null,
      "metadata": {
        "colab": {
          "base_uri": "https://localhost:8080/"
        },
        "id": "2MDQZOLc3Acc",
        "outputId": "104cef47-7532-4170-fa8e-eca3612390be"
      },
      "outputs": [
        {
          "name": "stdout",
          "output_type": "stream",
          "text": [
            "Enter the weight in kg:26.7\n",
            "The 26.7 kilograms to lbs is: 58.86282\n"
          ]
        }
      ],
      "source": [
        "kg=float(input(\"Enter the weight in kg:\"))\n",
        "lbs = kg * 2.2046\n",
        "print(f\"The {kg} kilograms to lbs is: {lbs}\")"
      ]
    },
    {
      "cell_type": "code",
      "execution_count": null,
      "metadata": {
        "colab": {
          "base_uri": "https://localhost:8080/"
        },
        "id": "UmqwvQeC4pOT",
        "outputId": "8543630b-1050-4e61-e548-4f8506e60245"
      },
      "outputs": [
        {
          "name": "stdout",
          "output_type": "stream",
          "text": [
            "Enter the radius:5\n",
            "31.400000000000002\n"
          ]
        }
      ],
      "source": [
        "r=float(input(\"Enter the radius:\"))\n",
        "pi=3.14\n",
        "C=2 * pi * r\n",
        "print(C)\n"
      ]
    },
    {
      "cell_type": "code",
      "execution_count": null,
      "metadata": {
        "colab": {
          "base_uri": "https://localhost:8080/"
        },
        "id": "CqATJMbi6OQF",
        "outputId": "ddffaad4-b3a4-4be9-afeb-60194dc4454e"
      },
      "outputs": [
        {
          "name": "stdout",
          "output_type": "stream",
          "text": [
            "2\n"
          ]
        }
      ],
      "source": [
        "num = 10\n",
        "num = num * 3\n",
        "num = num + 6\n",
        "num = num // 3\n",
        "number = num - 10\n",
        "print(number)\n"
      ]
    },
    {
      "cell_type": "code",
      "execution_count": null,
      "metadata": {
        "colab": {
          "base_uri": "https://localhost:8080/"
        },
        "id": "n3Si2F128ciC",
        "outputId": "ccb99fbe-e0f5-4343-ad68-b7f8f230f6a4"
      },
      "outputs": [
        {
          "name": "stdout",
          "output_type": "stream",
          "text": [
            "Enter first number3\n",
            "Enter second number4\n",
            "Product= 12.0\n"
          ]
        }
      ],
      "source": [
        "a=float(input(\"Enter first number\"))\n",
        "b=float(input(\"Enter second number\"))\n",
        "c=a*b\n",
        "print(f\"Product= {c}\")"
      ]
    },
    {
      "cell_type": "code",
      "execution_count": null,
      "metadata": {
        "colab": {
          "base_uri": "https://localhost:8080/"
        },
        "id": "_vgPBnBw_tzY",
        "outputId": "5f9a7b3f-7480-4a27-a758-3647e7d9f833"
      },
      "outputs": [
        {
          "name": "stdout",
          "output_type": "stream",
          "text": [
            "Enter the age of user:22\n",
            "Age in Days is = 8030\n",
            "Age in Hours is = 192720\n",
            "Age in Minutes is = 693792000\n",
            "Age in Seconds is = 41627520000\n"
          ]
        }
      ],
      "source": [
        "years=int(input(\"Enter the age of user:\"))\n",
        "days = years * 365\n",
        "hours = days * 24\n",
        "minutes = hours * 3600\n",
        "seconds = minutes * 60\n",
        "print(f'Age in Days is = {days}')\n",
        "print(f'Age in Hours is = {hours}')\n",
        "print(f'Age in Minutes is = {minutes}')\n",
        "print(f'Age in Seconds is = {seconds}')"
      ]
    },
    {
      "cell_type": "code",
      "execution_count": null,
      "metadata": {
        "colab": {
          "base_uri": "https://localhost:8080/"
        },
        "id": "A7Z1rgxTBssV",
        "outputId": "9a6a21ed-8901-41bf-b2d4-ba396ada28a8"
      },
      "outputs": [
        {
          "name": "stdout",
          "output_type": "stream",
          "text": [
            "Enter the price:400\n",
            "Enter the percentage:5\n",
            "20.0\n"
          ]
        }
      ],
      "source": [
        "price = int(input(\"Enter the price:\"))\n",
        "percent = int(input(\"Enter the percentage:\"))\n",
        "tip = price * percent/100\n",
        "tip = round(tip,2)\n",
        "print(tip)"
      ]
    },
    {
      "cell_type": "code",
      "source": [
        "hrs = float(input(\"Enter the number of hours:\"))\n",
        "rph = float(input(\"Enter the rate per hour of worker:\"))\n",
        "GrossPay = hrs * rph\n",
        "print(GrossPay)"
      ],
      "metadata": {
        "colab": {
          "base_uri": "https://localhost:8080/"
        },
        "id": "S05w5mMB7co5",
        "outputId": "4eec5fbb-8d2b-408c-86f6-a6f890ba88bd"
      },
      "execution_count": null,
      "outputs": [
        {
          "output_type": "stream",
          "name": "stdout",
          "text": [
            "Enter the number of hours:3.5\n",
            "Enter the rate per hour of worker:45.5\n",
            "159.25\n"
          ]
        }
      ]
    },
    {
      "cell_type": "code",
      "source": [
        "hrs = float(input(\"Enter number of hours:\"))\n",
        "rate = float(input(\"Enter the rate:\"))\n",
        "pay = hrs * rate\n",
        "if(hrs>40):\n",
        "   pay = (40 * rate) + (hrs-40) * rate * 1.5\n",
        "else:\n",
        "  pay = pay\n",
        "\n",
        "print(pay)"
      ],
      "metadata": {
        "colab": {
          "base_uri": "https://localhost:8080/"
        },
        "id": "X-ufG17YBahL",
        "outputId": "91d177cd-84fb-49d8-858d-5a3f0495c98d"
      },
      "execution_count": null,
      "outputs": [
        {
          "output_type": "stream",
          "name": "stdout",
          "text": [
            "Enter number of hours:45\n",
            "Enter the rate:10\n",
            "475.0\n"
          ]
        }
      ]
    },
    {
      "cell_type": "code",
      "source": [
        "inp = float(input(\"Enter temperature in Celsius:\"))\n",
        "try:\n",
        "  print(\"Farenheit\")\n",
        "except:\n",
        "  print(\"Enter temperature in digits/numbers\")"
      ],
      "metadata": {
        "colab": {
          "base_uri": "https://localhost:8080/"
        },
        "id": "v3HYfL0EFol9",
        "outputId": "3ab0bc6c-b7e1-450b-e19f-a420b4cbfdc7"
      },
      "execution_count": null,
      "outputs": [
        {
          "output_type": "stream",
          "name": "stdout",
          "text": [
            "Enter temperature in Celsius:30\n",
            "Farenheit\n"
          ]
        }
      ]
    },
    {
      "cell_type": "code",
      "source": [
        "#Car - Ensurance\n",
        "#Goal - Car Ensurance Calculation based on the following data\n",
        "#This is fictional car insurance company call\n",
        "\n",
        "market_price = float(input(\"Enter market price:\"))\n",
        "gender = input(\"Enter the gender:\")\n",
        "def calculate_insurance_premium(market_price,gender):\n",
        "  if gender.lower() == \"male\":\n",
        "    age = int(input(\"Enter your age:\"))\n",
        "    if age <=26:\n",
        "      premium = (23/100)*market_price\n",
        "    else:\n",
        "      premium = (9/100) * market_price\n",
        "\n",
        "  elif gender.lower() == \"female\":\n",
        "    is_sports_car = input(\"Is your car a sports car?(yes/no):\")\n",
        "    if is_sports_car.lower() == \"yes\":\n",
        "      premium = (21/100)*market_price\n",
        "    else:\n",
        "      premium = (10/100)*market_price\n",
        "  else:\n",
        "    print(\"Invalid gender input.\")\n",
        "\n",
        "  return premium\n",
        "\n",
        "premium = calculate_insurance_premium(market_price, gender)\n",
        "print(\"The insurance premium is:\", premium)\n"
      ],
      "metadata": {
        "colab": {
          "base_uri": "https://localhost:8080/"
        },
        "id": "nSyT7jRQ4oey",
        "outputId": "5a61cf21-fca3-4881-9ca8-7c6fdff1a764"
      },
      "execution_count": null,
      "outputs": [
        {
          "output_type": "stream",
          "name": "stdout",
          "text": [
            "Enter market price:20000\n",
            "Enter the gender:male\n",
            "Enter your age:30\n",
            "The insurance premium is: 1800.0\n"
          ]
        }
      ]
    },
    {
      "cell_type": "code",
      "source": [
        "smallest_so_far = 100\n",
        "print('Before',smallest_so_far)\n",
        "for the_num in [9,41,12,3,74,15]:\n",
        "  if the_num < smallest_so_far:\n",
        "    smallest_so_far = the_num\n",
        "  print('smallest_so_far',the_num)\n",
        "\n",
        "print('After',smallest_so_far)\n",
        "\n",
        "\n",
        "\n"
      ],
      "metadata": {
        "colab": {
          "base_uri": "https://localhost:8080/"
        },
        "id": "vmcPGsEPKn8C",
        "outputId": "d563b2a6-ba0a-418a-ecef-9bfe8efb4e7d"
      },
      "execution_count": null,
      "outputs": [
        {
          "output_type": "stream",
          "name": "stdout",
          "text": [
            "Before 100\n",
            "smallest_so_far 9\n",
            "smallest_so_far 41\n",
            "smallest_so_far 12\n",
            "smallest_so_far 3\n",
            "smallest_so_far 74\n",
            "smallest_so_far 15\n",
            "After 3\n"
          ]
        }
      ]
    },
    {
      "cell_type": "code",
      "source": [
        "zork = 0\n",
        "print('Before',zork)\n",
        "for thing in [9,41,12,3,74,15]:\n",
        "  zork = zork+1\n",
        "  print(zork, thing)\n",
        "print('After', zork)"
      ],
      "metadata": {
        "colab": {
          "base_uri": "https://localhost:8080/"
        },
        "id": "Ww5PWFrHMeob",
        "outputId": "e737511d-84e5-4154-bf7e-d4af0f9537d1"
      },
      "execution_count": null,
      "outputs": [
        {
          "output_type": "stream",
          "name": "stdout",
          "text": [
            "Before 0\n",
            "1 9\n",
            "2 41\n",
            "3 12\n",
            "4 3\n",
            "5 74\n",
            "6 15\n",
            "After 6\n"
          ]
        }
      ]
    },
    {
      "cell_type": "code",
      "source": [
        "num_list = []\n",
        "n=int(input(\"Enter the number of elements in the list:\"))\n",
        "for i in range(n):\n",
        "  num = int(input(\"Enter number:\"))\n",
        "  num_list.append(num)\n",
        "sum_of_elements = sum(num_list)\n",
        "print(\"Sum of all elements:\",sum_of_elements)"
      ],
      "metadata": {
        "colab": {
          "base_uri": "https://localhost:8080/"
        },
        "id": "-xk3AGPlw-Ve",
        "outputId": "09e64812-a7a6-41f8-cbb1-b690249cc88c"
      },
      "execution_count": null,
      "outputs": [
        {
          "output_type": "stream",
          "name": "stdout",
          "text": [
            "Enter the number of elements in the list:5\n",
            "Enter number:6\n",
            "Enter number:6\n",
            "Enter number:3\n",
            "Enter number:4\n",
            "Enter number:8\n",
            "Sum of all elements: 27\n"
          ]
        }
      ]
    },
    {
      "cell_type": "code",
      "source": [
        "#largest so far\n",
        "largest_so_far = -1\n",
        "print(\"Before\",largest_so_far)\n",
        "print(\"Current\\tLargest so far\")\n",
        "for the_num in [9,41,12,3,74,15]:\n",
        "  if the_num > largest_so_far:\n",
        "    largest_so_far = the_num\n",
        "  print(largest_so_far,\"\\t\",the_num)\n",
        "print(\"After\",largest_so_far)"
      ],
      "metadata": {
        "colab": {
          "base_uri": "https://localhost:8080/"
        },
        "id": "rlLU6R7D-Qf3",
        "outputId": "ae71924f-ee57-44d6-99dd-05ed897a5d96"
      },
      "execution_count": null,
      "outputs": [
        {
          "output_type": "stream",
          "name": "stdout",
          "text": [
            "Before -1\n",
            "Current\tLargest so far\n",
            "9 \t 9\n",
            "41 \t 41\n",
            "41 \t 12\n",
            "41 \t 3\n",
            "74 \t 74\n",
            "74 \t 15\n",
            "After 74\n"
          ]
        }
      ]
    },
    {
      "cell_type": "code",
      "source": [
        "def computepay(hrs,rate):\n",
        "  pay = hrs * rate\n",
        "  if(hrs>40):\n",
        "      pay = (40 * rate) + (hrs-40) * rate * 1.5\n",
        "  else:\n",
        "      pay = pay\n",
        "  print(pay)\n",
        "computepay(40,10)"
      ],
      "metadata": {
        "colab": {
          "base_uri": "https://localhost:8080/"
        },
        "id": "sEjATS6D_oul",
        "outputId": "7b34cda7-f5a0-404f-a134-7a5d78fd7166"
      },
      "execution_count": null,
      "outputs": [
        {
          "output_type": "stream",
          "name": "stdout",
          "text": [
            "400\n"
          ]
        }
      ]
    },
    {
      "cell_type": "code",
      "source": [
        "list1 = [1,2,\"Hello\",\"Hi\"]\n",
        "print(list1)"
      ],
      "metadata": {
        "colab": {
          "base_uri": "https://localhost:8080/"
        },
        "id": "ueI4n1vrDN-S",
        "outputId": "777c0382-90b8-4366-aec7-22949693a163"
      },
      "execution_count": null,
      "outputs": [
        {
          "output_type": "stream",
          "name": "stdout",
          "text": [
            "[1, 2, 'Hello', 'Hi']\n"
          ]
        }
      ]
    },
    {
      "cell_type": "code",
      "source": [
        "l1 = [1,4,5,7,4,15]\n",
        "print(l1)"
      ],
      "metadata": {
        "colab": {
          "base_uri": "https://localhost:8080/"
        },
        "id": "qOXm7TpiF0uT",
        "outputId": "3999bcf8-6964-44ef-bf8f-d4a5384ea69b"
      },
      "execution_count": null,
      "outputs": [
        {
          "output_type": "stream",
          "name": "stdout",
          "text": [
            "[1, 4, 5, 7, 4, 15]\n"
          ]
        }
      ]
    },
    {
      "cell_type": "code",
      "source": [
        "l1[2:4]"
      ],
      "metadata": {
        "colab": {
          "base_uri": "https://localhost:8080/"
        },
        "id": "vMfIDgzwHndn",
        "outputId": "c832ca21-51b1-499a-903f-dd0e587b09b9"
      },
      "execution_count": null,
      "outputs": [
        {
          "output_type": "execute_result",
          "data": {
            "text/plain": [
              "[5, 7]"
            ]
          },
          "metadata": {},
          "execution_count": 12
        }
      ]
    },
    {
      "cell_type": "code",
      "source": [
        "l1[:4]"
      ],
      "metadata": {
        "colab": {
          "base_uri": "https://localhost:8080/"
        },
        "id": "qm4AVxlRHuy1",
        "outputId": "7a214a16-dadd-4bac-cd92-091e7f7db85a"
      },
      "execution_count": null,
      "outputs": [
        {
          "output_type": "execute_result",
          "data": {
            "text/plain": [
              "[1, 4, 5, 7]"
            ]
          },
          "metadata": {},
          "execution_count": 13
        }
      ]
    },
    {
      "cell_type": "code",
      "source": [
        "l1[:-1]"
      ],
      "metadata": {
        "colab": {
          "base_uri": "https://localhost:8080/"
        },
        "id": "AVmr8_-YIVgo",
        "outputId": "78331780-8c49-4e80-aab5-d1eed95de2d3"
      },
      "execution_count": null,
      "outputs": [
        {
          "output_type": "execute_result",
          "data": {
            "text/plain": [
              "[1, 4, 5, 7, 4]"
            ]
          },
          "metadata": {},
          "execution_count": 14
        }
      ]
    },
    {
      "cell_type": "code",
      "source": [
        "print(l1 + list1)"
      ],
      "metadata": {
        "colab": {
          "base_uri": "https://localhost:8080/"
        },
        "id": "229G_FEnIcgv",
        "outputId": "f4df8100-1f4a-4ccb-ae3f-80020d008f45"
      },
      "execution_count": null,
      "outputs": [
        {
          "output_type": "stream",
          "name": "stdout",
          "text": [
            "[1, 4, 5, 7, 4, 15, 1, 2, 'Hello', 'Hi']\n"
          ]
        }
      ]
    },
    {
      "cell_type": "code",
      "source": [
        "print(list1 * 3)"
      ],
      "metadata": {
        "colab": {
          "base_uri": "https://localhost:8080/"
        },
        "id": "e4ZQlN-mIlFN",
        "outputId": "2d60ede8-b7cf-4634-ca97-4c53f5212a95"
      },
      "execution_count": null,
      "outputs": [
        {
          "output_type": "stream",
          "name": "stdout",
          "text": [
            "[1, 2, 'Hello', 'Hi', 1, 2, 'Hello', 'Hi', 1, 2, 'Hello', 'Hi']\n"
          ]
        }
      ]
    },
    {
      "cell_type": "code",
      "source": [
        "l2=[23,24,25,[\"A\",\"LPU\",5],3,2,1]\n",
        "l2[3][1][1]"
      ],
      "metadata": {
        "colab": {
          "base_uri": "https://localhost:8080/",
          "height": 36
        },
        "id": "pkmXXOA_I7hM",
        "outputId": "abd74a37-fd3d-40d7-e644-179aed8ef2dc"
      },
      "execution_count": null,
      "outputs": [
        {
          "output_type": "execute_result",
          "data": {
            "text/plain": [
              "'P'"
            ],
            "application/vnd.google.colaboratory.intrinsic+json": {
              "type": "string"
            }
          },
          "metadata": {},
          "execution_count": 21
        }
      ]
    },
    {
      "cell_type": "code",
      "source": [
        "#lists are mutable\n",
        "list3 = ['a','b','c','d']\n",
        "list3[-1] = 'xyz'\n",
        "list3"
      ],
      "metadata": {
        "colab": {
          "base_uri": "https://localhost:8080/"
        },
        "id": "TlsZJqojJokr",
        "outputId": "c50ac61b-29a9-4d01-da30-71b9f9e2f706"
      },
      "execution_count": null,
      "outputs": [
        {
          "output_type": "execute_result",
          "data": {
            "text/plain": [
              "['a', 'b', 'c', 'xyz']"
            ]
          },
          "metadata": {},
          "execution_count": 24
        }
      ]
    },
    {
      "cell_type": "code",
      "source": [
        "list3.append(\"LPU\")\n",
        "list3"
      ],
      "metadata": {
        "colab": {
          "base_uri": "https://localhost:8080/"
        },
        "id": "4GjsuzK9J9IO",
        "outputId": "f93a0f76-d445-497b-f207-7965315f0743"
      },
      "execution_count": null,
      "outputs": [
        {
          "output_type": "execute_result",
          "data": {
            "text/plain": [
              "['a', 'b', 'c', 'xyz', 'LPU']"
            ]
          },
          "metadata": {},
          "execution_count": 25
        }
      ]
    },
    {
      "cell_type": "code",
      "source": [
        "list3.append(5)\n",
        "list3\n"
      ],
      "metadata": {
        "colab": {
          "base_uri": "https://localhost:8080/"
        },
        "id": "MXLqdVPAKc_t",
        "outputId": "10f56191-0915-4f65-8d20-c84c28eb5d07"
      },
      "execution_count": null,
      "outputs": [
        {
          "output_type": "execute_result",
          "data": {
            "text/plain": [
              "['a', 'b', 'c', 'xyz', 'LPU', 5, 5, 5, 5, 5]"
            ]
          },
          "metadata": {},
          "execution_count": 30
        }
      ]
    },
    {
      "cell_type": "code",
      "source": [
        "l1.extend(list3)\n",
        "l1\n"
      ],
      "metadata": {
        "colab": {
          "base_uri": "https://localhost:8080/"
        },
        "id": "WHZJbkzPKkOo",
        "outputId": "00f72331-898c-460d-df0d-cfa7d3f822c7"
      },
      "execution_count": null,
      "outputs": [
        {
          "output_type": "execute_result",
          "data": {
            "text/plain": [
              "[1, 4, 5, 7, 4, 15, 'a', 'b', 'c', 'xyz', 'LPU', 5, 5, 5, 5, 5]"
            ]
          },
          "metadata": {},
          "execution_count": 31
        }
      ]
    },
    {
      "cell_type": "code",
      "source": [
        "list3"
      ],
      "metadata": {
        "colab": {
          "base_uri": "https://localhost:8080/"
        },
        "id": "MiDIPzk-LFw5",
        "outputId": "ded29191-7145-4bab-9b85-ed4e5abf06a0"
      },
      "execution_count": null,
      "outputs": [
        {
          "output_type": "execute_result",
          "data": {
            "text/plain": [
              "['a', 'b', 'c', 'xyz', 'LPU', 5, 5, 5, 5, 5]"
            ]
          },
          "metadata": {},
          "execution_count": 32
        }
      ]
    },
    {
      "cell_type": "code",
      "source": [
        "t1 = (1,2,3,4)\n",
        "print(t1)\n",
        "print(type(t1))"
      ],
      "metadata": {
        "colab": {
          "base_uri": "https://localhost:8080/"
        },
        "id": "r4xcc7InLX9n",
        "outputId": "726067af-0f7c-4848-c075-1943f20693fd"
      },
      "execution_count": null,
      "outputs": [
        {
          "output_type": "stream",
          "name": "stdout",
          "text": [
            "(1, 2, 3, 4)\n",
            "<class 'tuple'>\n"
          ]
        }
      ]
    },
    {
      "cell_type": "code",
      "source": [
        "t2 = (5)\n",
        "print(type(t2))"
      ],
      "metadata": {
        "colab": {
          "base_uri": "https://localhost:8080/"
        },
        "id": "UAySLBRxMEbr",
        "outputId": "a4d05250-04c5-41bf-b56f-c5df4c16ad9f"
      },
      "execution_count": null,
      "outputs": [
        {
          "output_type": "stream",
          "name": "stdout",
          "text": [
            "<class 'int'>\n"
          ]
        }
      ]
    },
    {
      "cell_type": "code",
      "source": [
        "t2 = (5,)\n",
        "print(type(t2))"
      ],
      "metadata": {
        "colab": {
          "base_uri": "https://localhost:8080/"
        },
        "id": "XGJHIM-wMTJv",
        "outputId": "b988789f-6f02-419c-a5f5-bc16b72fc57f"
      },
      "execution_count": null,
      "outputs": [
        {
          "output_type": "stream",
          "name": "stdout",
          "text": [
            "<class 'tuple'>\n"
          ]
        }
      ]
    },
    {
      "cell_type": "code",
      "source": [
        "empty_list = []\n",
        "print(type(empty_list))"
      ],
      "metadata": {
        "colab": {
          "base_uri": "https://localhost:8080/"
        },
        "id": "GFaqXyfWMxnt",
        "outputId": "1c4525ac-0c20-4d82-aedf-379eb3f67801"
      },
      "execution_count": null,
      "outputs": [
        {
          "output_type": "stream",
          "name": "stdout",
          "text": [
            "<class 'list'>\n"
          ]
        }
      ]
    },
    {
      "cell_type": "code",
      "source": [
        "empty_tuple = ()\n",
        "print(type(empty_tuple))"
      ],
      "metadata": {
        "colab": {
          "base_uri": "https://localhost:8080/"
        },
        "id": "OpjdPJRXNgVB",
        "outputId": "f0ad2d94-c292-47ec-969d-2e4de9c855a9"
      },
      "execution_count": null,
      "outputs": [
        {
          "output_type": "stream",
          "name": "stdout",
          "text": [
            "<class 'tuple'>\n"
          ]
        }
      ]
    },
    {
      "cell_type": "code",
      "source": [
        "empty_dict = {}\n",
        "print(type(empty_dict))"
      ],
      "metadata": {
        "colab": {
          "base_uri": "https://localhost:8080/"
        },
        "id": "jRrJ3sFrNyPT",
        "outputId": "34d0fd58-f37a-4508-bb84-6919f2c25569"
      },
      "execution_count": null,
      "outputs": [
        {
          "output_type": "stream",
          "name": "stdout",
          "text": [
            "<class 'dict'>\n"
          ]
        }
      ]
    },
    {
      "cell_type": "code",
      "source": [
        "import random\n",
        "random.randint(1,7)"
      ],
      "metadata": {
        "colab": {
          "base_uri": "https://localhost:8080/"
        },
        "id": "g96jF41_Ozr2",
        "outputId": "8801541a-b0dd-4085-ad2d-f35ca03ddde7"
      },
      "execution_count": null,
      "outputs": [
        {
          "output_type": "execute_result",
          "data": {
            "text/plain": [
              "6"
            ]
          },
          "metadata": {},
          "execution_count": 42
        }
      ]
    },
    {
      "cell_type": "code",
      "source": [
        "# Python program for jumbled words game.\n",
        "\n",
        "# import random module\n",
        "import random\n",
        "\n",
        "\n",
        "# function for choosing random word.\n",
        "def choose():\n",
        "\t# list of word\n",
        "\twords = ['rainbow', 'computer', 'science', 'programming',\n",
        "\t\t\t'mathematics', 'player', 'condition', 'reverse',\n",
        "\t\t\t'water', 'board', 'geeks']\n",
        "\n",
        "\t# choice() method randomly choose\n",
        "\t# any word from the list.\n",
        "\tpick = random.choice(words)\n",
        "\n",
        "\treturn pick\n",
        "\n",
        "\n",
        "# Function for shuffling the\n",
        "# characters of the chosen word.\n",
        "def jumble(word):\n",
        "\t# sample() method shuffling the characters of the word\n",
        "\trandom_word = random.sample(word, len(word))\n",
        "\n",
        "\t# join() method join the elements\n",
        "\t# of the iterator(e.g. list) with particular character .\n",
        "\tjumbled = ''.join(random_word)\n",
        "\treturn jumbled\n",
        "\n",
        "\n",
        "# Function for showing final score.\n",
        "def thank(p1n, p2n, p1, p2):\n",
        "\tprint(p1n, 'Your score is :', p1)\n",
        "\tprint(p2n, 'Your score is :', p2)\n",
        "\n",
        "\t# check_win() function calling\n",
        "\tcheck_win(p1n, p2n, p1, p2)\n",
        "\n",
        "\tprint('Thanks for playing...')\n",
        "\n",
        "\n",
        "# Function for declaring winner\n",
        "def check_win(player1, player2, p1score, p2score):\n",
        "\tif p1score > p2score:\n",
        "\t\tprint(\"winner is :\", player1)\n",
        "\telif p2score > p1score:\n",
        "\t\tprint(\"winner is :\", player2)\n",
        "\telse:\n",
        "\t\tprint(\"Draw..Well Played guys..\")\n",
        "\n",
        "\n",
        "# Function for playing the game.\n",
        "def play():\n",
        "\t# enter player1 and player2 name\n",
        "\tp1name = input(\"player 1, Please enter your name :\")\n",
        "\tp2name = input(\"Player 2 , Please enter your name: \")\n",
        "\n",
        "\t# variable for counting score.\n",
        "\tpp1 = 0\n",
        "\tpp2 = 0\n",
        "\n",
        "\t# variable for counting turn\n",
        "\tturn = 0\n",
        "\n",
        "\t# keep looping\n",
        "\twhile True:\n",
        "\n",
        "\t\t# choose() function calling\n",
        "\t\tpicked_word = choose()\n",
        "\n",
        "\t\t# jumble() function calling\n",
        "\t\tqn = jumble(picked_word)\n",
        "\t\tprint(\"jumbled word is :\", qn)\n",
        "\n",
        "\t\t# checking turn is odd or even\n",
        "\t\tif turn % 2 == 0:\n",
        "\n",
        "\t\t\t# if turn no. is even\n",
        "\t\t\t# player1 turn\n",
        "\t\t\tprint(p1name, 'Your Turn.')\n",
        "\n",
        "\t\t\tans = input(\"what is in your mind? \")\n",
        "\n",
        "\t\t\t# checking ans is equal to picked_word or not\n",
        "\t\t\tif ans == picked_word:\n",
        "\n",
        "\t\t\t\t# incremented by 1\n",
        "\t\t\t\tpp1 += 1\n",
        "\n",
        "\t\t\t\tprint('Your score is :', pp1)\n",
        "\t\t\t\tturn += 1\n",
        "\n",
        "\t\t\telse:\n",
        "\t\t\t\tprint(\"Better luck next time ..\")\n",
        "\n",
        "\t\t\t\t# player 2 turn\n",
        "\t\t\t\tprint(p2name, 'Your turn.')\n",
        "\n",
        "\t\t\t\tans = input('what is in your mind? ')\n",
        "\n",
        "\t\t\t\tif ans == picked_word:\n",
        "\t\t\t\t\tpp2 += 1\n",
        "\t\t\t\t\tprint(\"Your Score is :\", pp2)\n",
        "\n",
        "\t\t\t\telse:\n",
        "\t\t\t\t\tprint(\"Better luck next time...correct word is :\", picked_word)\n",
        "\n",
        "\t\t\t\tc = int(input(\"press 1 to continue and 0 to quit :\"))\n",
        "\n",
        "\t\t\t\t# checking the c is equal to 0 or not\n",
        "\t\t\t\t# if c is equal to 0 then break out\n",
        "\t\t\t\t# of the while loop o/w keep looping.\n",
        "\t\t\t\tif c == 0:\n",
        "\t\t\t\t\t# thank() function calling\n",
        "\t\t\t\t\tthank(p1name, p2name, pp1, pp2)\n",
        "\t\t\t\t\tbreak\n",
        "\n",
        "\t\telse:\n",
        "\n",
        "\t\t\t# if turn no. is odd\n",
        "\t\t\t# player2 turn\n",
        "\t\t\tprint(p2name, 'Your turn.')\n",
        "\t\t\tans = input('what is in your mind? ')\n",
        "\n",
        "\t\t\tif ans == picked_word:\n",
        "\t\t\t\tpp2 += 1\n",
        "\t\t\t\tprint(\"Your Score is :\", pp2)\n",
        "\t\t\t\tturn += 1\n",
        "\n",
        "\t\t\telse:\n",
        "\t\t\t\tprint(\"Better luck next time.. :\")\n",
        "\t\t\t\tprint(p1name, 'Your turn.')\n",
        "\t\t\t\tans = input('what is in your mind? ')\n",
        "\n",
        "\t\t\t\tif ans == picked_word:\n",
        "\t\t\t\t\tpp1 += 1\n",
        "\t\t\t\t\tprint(\"Your Score is :\", pp1)\n",
        "\n",
        "\t\t\t\telse:\n",
        "\t\t\t\t\tprint(\"Better luck next time...correct word is :\", picked_word)\n",
        "\n",
        "\t\t\t\t\tc = int(input(\"press 1 to continue and 0 to quit :\"))\n",
        "\n",
        "\t\t\t\t\tif c == 0:\n",
        "\t\t\t\t\t\t# thank() function calling\n",
        "\t\t\t\t\t\tthank(p1name, p2name, pp1, pp2)\n",
        "\t\t\t\t\t\tbreak\n",
        "\n",
        "\t\t\tc = int(input(\"press 1 to continue and 0 to quit :\"))\n",
        "\t\t\tif c == 0:\n",
        "\t\t\t\t# thank() function calling\n",
        "\t\t\t\tthank(p1name, p2name, pp1, pp2)\n",
        "\t\t\t\tbreak\n",
        "\n",
        "\n",
        "# Driver code\n",
        "if __name__ == '__main__':\n",
        "\n",
        "\t# play() function calling\n",
        "\tplay()\n"
      ],
      "metadata": {
        "colab": {
          "base_uri": "https://localhost:8080/"
        },
        "id": "tcnXKEYKEoS9",
        "outputId": "4a8dc4e0-6efc-446f-8384-c119c72a313f"
      },
      "execution_count": null,
      "outputs": [
        {
          "output_type": "stream",
          "name": "stdout",
          "text": [
            "player 1, Please enter your name :A\n",
            "Player 2 , Please enter your name: B\n",
            "jumbled word is : ewatr\n",
            "A Your Turn.\n",
            "what is in your mind? water\n",
            "Your score is : 1\n",
            "jumbled word is : coonitndi\n",
            "B Your turn.\n",
            "what is in your mind? condition\n",
            "Your Score is : 1\n",
            "press 1 to continue and 0 to quit :0\n",
            "A Your score is : 1\n",
            "B Your score is : 1\n",
            "Draw..Well Played guys..\n",
            "Thanks for playing...\n"
          ]
        }
      ]
    },
    {
      "cell_type": "code",
      "source": [
        "import random\n",
        "words = ['father','enterprise','science','programming','resistance','fiction','condition','reverse','water','board','geeks']\n",
        "word = random.choice(words)\n",
        "print(word)\n",
        "jumbled = random.sample(word,len(word))\n",
        "print(f\"The jumbled word is {jumbled}\")\n",
        "guess = input(\"Type the guessed word:\")\n",
        "if guess==word:\n",
        "  print(\"Correct guess\")\n",
        "else:\n",
        "  print(\"Incorrect guess\")\n"
      ],
      "metadata": {
        "colab": {
          "base_uri": "https://localhost:8080/"
        },
        "id": "nm3jO7CsFTuH",
        "outputId": "83327a43-324f-4034-db47-02ee5aa7ddf3"
      },
      "execution_count": null,
      "outputs": [
        {
          "output_type": "stream",
          "name": "stdout",
          "text": [
            "condition\n",
            "The jumbled word is ['o', 't', 'i', 'd', 'o', 'n', 'c', 'n', 'i']\n",
            "Type the guessed word:condition\n",
            "Correct guess\n"
          ]
        }
      ]
    },
    {
      "cell_type": "code",
      "source": [
        "def fib(n):\n",
        "  if n<=1:\n",
        "    return n\n",
        "  else:\n",
        "    return fib(n-1) + fib(n-2)\n",
        "\n",
        "n = int(input(\"Enter the number of terms:\"))\n",
        "for i in range(n):\n",
        "  print(fib(i))"
      ],
      "metadata": {
        "colab": {
          "base_uri": "https://localhost:8080/"
        },
        "id": "3xobq_WNIq8f",
        "outputId": "91a593f8-2bc7-4709-8666-5880e0f4f14d"
      },
      "execution_count": null,
      "outputs": [
        {
          "output_type": "stream",
          "name": "stdout",
          "text": [
            "Enter the number of terms:5\n",
            "0\n",
            "1\n",
            "1\n",
            "2\n",
            "3\n"
          ]
        }
      ]
    },
    {
      "cell_type": "code",
      "source": [
        "# Recursive Python function to solve the tower of hanoi\n",
        "\n",
        "def TowerOfHanoi(n , source, destination, auxiliary):\n",
        "\tif n==1:\n",
        "\t\tprint (\"Move disk 1 from source\",source,\"to destination\",destination)\n",
        "\t\treturn\n",
        "\tTowerOfHanoi(n-1, source, auxiliary, destination)\n",
        "\tprint (\"Move disk\",n,\"from source\",source,\"to destination\",destination)\n",
        "\tTowerOfHanoi(n-1, auxiliary, destination, source)\n",
        "\n",
        "# Driver code\n",
        "n = int(input(\"Enter the number of disks:\"))\n",
        "TowerOfHanoi(n,'A','B','C')\n",
        "# A, C, B are the name of rods\n"
      ],
      "metadata": {
        "colab": {
          "base_uri": "https://localhost:8080/"
        },
        "id": "G-c14dqfiykL",
        "outputId": "d28faa03-2811-473a-c251-26e46412a5b3"
      },
      "execution_count": null,
      "outputs": [
        {
          "output_type": "stream",
          "name": "stdout",
          "text": [
            "Enter the number of disks:4\n",
            "Move disk 1 from source A to destination C\n",
            "Move disk 2 from source A to destination B\n",
            "Move disk 1 from source C to destination B\n",
            "Move disk 3 from source A to destination C\n",
            "Move disk 1 from source B to destination A\n",
            "Move disk 2 from source B to destination C\n",
            "Move disk 1 from source A to destination C\n",
            "Move disk 4 from source A to destination B\n",
            "Move disk 1 from source C to destination B\n",
            "Move disk 2 from source C to destination A\n",
            "Move disk 1 from source B to destination A\n",
            "Move disk 3 from source C to destination B\n",
            "Move disk 1 from source A to destination C\n",
            "Move disk 2 from source A to destination B\n",
            "Move disk 1 from source C to destination B\n"
          ]
        }
      ]
    }
  ],
  "metadata": {
    "colab": {
      "provenance": [],
      "authorship_tag": "ABX9TyOsEttec2zhwC2XNuU7xXK3",
      "include_colab_link": true
    },
    "kernelspec": {
      "display_name": "Python 3",
      "name": "python3"
    },
    "language_info": {
      "name": "python"
    }
  },
  "nbformat": 4,
  "nbformat_minor": 0
}